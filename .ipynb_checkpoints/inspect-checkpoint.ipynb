{
 "cells": [
  {
   "cell_type": "code",
   "execution_count": 1,
   "id": "eeddd43c-66cf-4bcd-86fc-efcf87b7bd2b",
   "metadata": {
    "tags": []
   },
   "outputs": [
    {
     "name": "stderr",
     "output_type": "stream",
     "text": [
      "2024-05-04 11:49:46.710526: W external/xla/xla/service/gpu/nvptx_compiler.cc:718] The NVIDIA driver's CUDA version is 12.0 which is older than the ptxas CUDA version (12.4.131). Because the driver is older than the ptxas version, XLA is disabling parallel compilation, which may slow down compilation. You should update your NVIDIA driver or use the NVIDIA-provided CUDA forward compatibility packages.\n"
     ]
    }
   ],
   "source": [
    "import sys\n",
    "sys.path.insert(0, \"/personal/422/out/F62\")\n",
    "from model import qmc, model\n",
    "qmc.load(\"out/F62/data.npz\")"
   ]
  },
  {
   "cell_type": "code",
   "execution_count": 7,
   "id": "6e910296-b58e-4817-a5c2-8c367d864bc2",
   "metadata": {
    "tags": []
   },
   "outputs": [
    {
     "data": {
      "text/plain": [
       "({'layers_1': {'f': {'layers_1': {'A_dd': Array(0.32245523, dtype=float32),\n",
       "     'A_du': Array(0.24891758, dtype=float32),\n",
       "     'A_ud': Array(0.34492806, dtype=float32),\n",
       "     'A_uu': Array(0.30554304, dtype=float32),\n",
       "     'M_dd': Array(0.26230004, dtype=float32),\n",
       "     'M_du': Array(0.24926712, dtype=float32),\n",
       "     'M_ud': Array(0.32494557, dtype=float32),\n",
       "     'M_uu': Array(0.29714224, dtype=float32)}}},\n",
       "  'layers_2': {'f': {'layers_1': {'A_dd': Array(0.10609158, dtype=float32),\n",
       "     'A_du': Array(0.08982588, dtype=float32),\n",
       "     'A_ud': Array(0.14679319, dtype=float32),\n",
       "     'A_uu': Array(0.13423987, dtype=float32),\n",
       "     'M_dd': Array(0.0644962, dtype=float32),\n",
       "     'M_du': Array(0.05875834, dtype=float32),\n",
       "     'M_ud': Array(0.07949036, dtype=float32),\n",
       "     'M_uu': Array(0.07502893, dtype=float32)}}},\n",
       "  'layers_3': {'dd': {'layers_0': {'W': Array(0.02854508, dtype=float32),\n",
       "     'b': Array(0.03260404, dtype=float32)},\n",
       "    'layers_2': {'W': Array(0.46930766, dtype=float32),\n",
       "     'b': Array(0., dtype=float32)}},\n",
       "   'ud': {'layers_0': {'W': Array(0.05538714, dtype=float32),\n",
       "     'b': Array(0.11317801, dtype=float32)},\n",
       "    'layers_2': {'W': Array(0.66459954, dtype=float32),\n",
       "     'b': Array(0., dtype=float32)}},\n",
       "   'uu': {'layers_0': {'W': Array(0.04721292, dtype=float32),\n",
       "     'b': Array(0.0815056, dtype=float32)},\n",
       "    'layers_2': {'W': Array(0.76102763, dtype=float32),\n",
       "     'b': Array(0., dtype=float32)}}}},\n",
       " Array(0., dtype=float32))"
      ]
     },
     "execution_count": 7,
     "metadata": {},
     "output_type": "execute_result"
    }
   ],
   "source": [
    "import jax\n",
    "qmc.sample(5000)\n",
    "qmc.is_warmed_up=True\n",
    "p = qmc.get_trainer()(qmc.param, qmc.r)\n",
    "jax.tree_util.tree_map(lambda x: x.std(), p)"
   ]
  },
  {
   "cell_type": "code",
   "execution_count": 4,
   "id": "b785b65a-4ca5-4a10-a00a-30f2cf3c2f03",
   "metadata": {
    "tags": []
   },
   "outputs": [
    {
     "data": {
      "text/plain": [
       "(Array(1.5474063, dtype=float32),\n",
       " {'sequential': {'0': (Array(0.70704097, dtype=float32),),\n",
       "   '1': (Array(0.7740448, dtype=float32),),\n",
       "   '2': (Array(1.0053902, dtype=float32),),\n",
       "   '3': (Array(1.5474063, dtype=float32),),\n",
       "   'layers_1': {'f': {'0': (Array(0.28281638, dtype=float32),),\n",
       "     '1': (Array(0.6440641, dtype=float32),),\n",
       "     '2': (Array(0.32203206, dtype=float32),)}},\n",
       "   'layers_2': {'f': {'0': (Array(0.15480895, dtype=float32),),\n",
       "     '1': (Array(1.52008, dtype=float32),),\n",
       "     '2': (Array(0.76004, dtype=float32),)}},\n",
       "   'layers_3': {'dd': {'0': (Array(0.73596215, dtype=float32),),\n",
       "     '1': (Array(0.14719242, dtype=float32),),\n",
       "     '2': (Array(0.18206513, dtype=float32),)},\n",
       "    'ud': {'0': (Array(0.7283523, dtype=float32),),\n",
       "     '1': (Array(0.14567047, dtype=float32),),\n",
       "     '2': (Array(0.21272366, dtype=float32),)},\n",
       "    'uu': {'0': (Array(0.70209867, dtype=float32),),\n",
       "     '1': (Array(0.14041974, dtype=float32),),\n",
       "     '2': (Array(0.18532616, dtype=float32),)}}}})"
      ]
     },
     "execution_count": 4,
     "metadata": {},
     "output_type": "execute_result"
    }
   ],
   "source": [
    "import jax\n",
    "r = qmc.r.reshape((-1,)+qmc.r.shape[-2:])\n",
    "inspect = lambda z: jax.tree_util.tree_map(lambda x: x.std(), z)\n",
    "inspect(jax.vmap(lambda r: model.apply({\"params\":qmc.param}, r, mutable=\"sequential\"))(r))"
   ]
  },
  {
   "cell_type": "code",
   "execution_count": 5,
   "id": "652db9ce-42be-4647-917c-375b541a318f",
   "metadata": {
    "tags": []
   },
   "outputs": [
    {
     "data": {
      "text/plain": [
       "(Array(1.5474063, dtype=float32),\n",
       " {'debug': {'layers_1': {'f': {'layers_1': {'uu': (Array(0.27906162, dtype=float32),)}}},\n",
       "   'layers_2': {'f': {'layers_1': {'uu': (Array(0.7176017, dtype=float32),)}}},\n",
       "   'layers_3': {'dd': {'layers_0': {'fy': (Array(0.73596215, dtype=float32),),\n",
       "      'x': (Array(1.570712, dtype=float32),),\n",
       "      'y': (Array(1.5686076, dtype=float32),)},\n",
       "     'layers_2': {'fy': (Array(0.18206513, dtype=float32),),\n",
       "      'x': (Array(0.14719242, dtype=float32),),\n",
       "      'y': (Array(0.18805353, dtype=float32),)}},\n",
       "    'ud': {'layers_0': {'fy': (Array(0.7283523, dtype=float32),),\n",
       "      'x': (Array(1.4749093, dtype=float32),),\n",
       "      'y': (Array(1.5228698, dtype=float32),)},\n",
       "     'layers_2': {'fy': (Array(0.21272366, dtype=float32),),\n",
       "      'x': (Array(0.14567047, dtype=float32),),\n",
       "      'y': (Array(0.2696542, dtype=float32),)}},\n",
       "    'uu': {'layers_0': {'fy': (Array(0.70209867, dtype=float32),),\n",
       "      'x': (Array(1.4136217, dtype=float32),),\n",
       "      'y': (Array(1.3641547, dtype=float32),)},\n",
       "     'layers_2': {'fy': (Array(0.18532616, dtype=float32),),\n",
       "      'x': (Array(0.14041974, dtype=float32),),\n",
       "      'y': (Array(0.19151571, dtype=float32),)}}}}})"
      ]
     },
     "execution_count": 5,
     "metadata": {},
     "output_type": "execute_result"
    }
   ],
   "source": [
    "import jax\n",
    "r = qmc.r.reshape((-1,)+qmc.r.shape[-2:])\n",
    "inspect = lambda z: jax.tree_util.tree_map(lambda x: x.std(), z)\n",
    "inspect(jax.vmap(lambda r: model.apply({\"params\":qmc.param}, r, mutable=\"debug\"))(r))"
   ]
  }
 ],
 "metadata": {
  "kernelspec": {
   "display_name": "Python 3 (ipykernel)",
   "language": "python",
   "name": "python3"
  },
  "language_info": {
   "codemirror_mode": {
    "name": "ipython",
    "version": 3
   },
   "file_extension": ".py",
   "mimetype": "text/x-python",
   "name": "python",
   "nbconvert_exporter": "python",
   "pygments_lexer": "ipython3",
   "version": "3.10.6"
  }
 },
 "nbformat": 4,
 "nbformat_minor": 5
}
