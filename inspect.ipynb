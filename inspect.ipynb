{
 "cells": [
  {
   "cell_type": "code",
   "execution_count": 1,
   "id": "eeddd43c-66cf-4bcd-86fc-efcf87b7bd2b",
   "metadata": {
    "tags": []
   },
   "outputs": [
    {
     "name": "stderr",
     "output_type": "stream",
     "text": [
      "2024-05-04 23:39:41.670029: W external/xla/xla/service/gpu/nvptx_compiler.cc:718] The NVIDIA driver's CUDA version is 12.0 which is older than the ptxas CUDA version (12.4.131). Because the driver is older than the ptxas version, XLA is disabling parallel compilation, which may slow down compilation. You should update your NVIDIA driver or use the NVIDIA-provided CUDA forward compatibility packages.\n"
     ]
    }
   ],
   "source": [
    "import sys\n",
    "name = \"F67\"\n",
    "sys.path.insert(0, f\"/personal/422/out/{name}\")\n",
    "from model import qmc, model\n",
    "qmc.load(f\"out/{name}/data.npz\")"
   ]
  },
  {
   "cell_type": "code",
   "execution_count": 2,
   "id": "6e910296-b58e-4817-a5c2-8c367d864bc2",
   "metadata": {
    "tags": []
   },
   "outputs": [
    {
     "data": {
      "text/plain": [
       "({'layers_1': {'f': {'layers_1': {'A_dd': Array(0.18421197, dtype=float32),\n",
       "     'A_du': Array(0.17035182, dtype=float32),\n",
       "     'A_ud': Array(0.22681047, dtype=float32),\n",
       "     'A_uu': Array(0.23461747, dtype=float32),\n",
       "     'M_dd': Array(0.11163591, dtype=float32),\n",
       "     'M_du': Array(0.07966654, dtype=float32),\n",
       "     'M_ud': Array(0.16409232, dtype=float32),\n",
       "     'M_uu': Array(0.11895287, dtype=float32)}}},\n",
       "  'layers_2': {'f': {'layers_1': {'A_dd': Array(0.08066487, dtype=float32),\n",
       "     'A_du': Array(0.0741621, dtype=float32),\n",
       "     'A_ud': Array(0.11233851, dtype=float32),\n",
       "     'A_uu': Array(0.10225665, dtype=float32),\n",
       "     'M_dd': Array(0.02551438, dtype=float32),\n",
       "     'M_du': Array(0.02398009, dtype=float32),\n",
       "     'M_ud': Array(0.05059396, dtype=float32),\n",
       "     'M_uu': Array(0.04398185, dtype=float32)}}},\n",
       "  'layers_3': {'f': {'layers_1': {'A_dd': Array(0.05691877, dtype=float32),\n",
       "     'A_du': Array(0.05337015, dtype=float32),\n",
       "     'A_ud': Array(0.098363, dtype=float32),\n",
       "     'A_uu': Array(0.10068875, dtype=float32),\n",
       "     'M_dd': Array(0.02107645, dtype=float32),\n",
       "     'M_du': Array(0.01947805, dtype=float32),\n",
       "     'M_ud': Array(0.05282763, dtype=float32),\n",
       "     'M_uu': Array(0.03658992, dtype=float32)}}},\n",
       "  'layers_4': {'f': {'layers_1': {'A_dd': Array(0.03201176, dtype=float32),\n",
       "     'A_du': Array(0.02601775, dtype=float32),\n",
       "     'A_ud': Array(0.09860612, dtype=float32),\n",
       "     'A_uu': Array(0.07646023, dtype=float32),\n",
       "     'M_dd': Array(0.01507556, dtype=float32),\n",
       "     'M_du': Array(0.01043056, dtype=float32),\n",
       "     'M_ud': Array(0.04650079, dtype=float32),\n",
       "     'M_uu': Array(0.030256, dtype=float32)}}},\n",
       "  'layers_5': {'dd': {'layers_0': {'W': Array(0.00940563, dtype=float32),\n",
       "     'b': Array(0.01275906, dtype=float32)},\n",
       "    'layers_2': {'W': Array(0.15101708, dtype=float32),\n",
       "     'b': Array(0., dtype=float32)}},\n",
       "   'ud': {'layers_0': {'W': Array(0.02476058, dtype=float32),\n",
       "     'b': Array(0.0367726, dtype=float32)},\n",
       "    'layers_2': {'W': Array(0.36521262, dtype=float32),\n",
       "     'b': Array(0., dtype=float32)}},\n",
       "   'uu': {'layers_0': {'W': Array(0.06532367, dtype=float32),\n",
       "     'b': Array(0.05008554, dtype=float32)},\n",
       "    'layers_2': {'W': Array(1.0838914, dtype=float32),\n",
       "     'b': Array(0., dtype=float32)}}}},\n",
       " Array(0., dtype=float32))"
      ]
     },
     "execution_count": 2,
     "metadata": {},
     "output_type": "execute_result"
    }
   ],
   "source": [
    "import jax\n",
    "qmc.sample(1000)\n",
    "qmc.is_warmed_up=True\n",
    "p = qmc.get_trainer()(qmc.param, qmc.r)\n",
    "jax.tree_util.tree_map(lambda x: x.std(), p)"
   ]
  },
  {
   "cell_type": "code",
   "execution_count": 3,
   "id": "b785b65a-4ca5-4a10-a00a-30f2cf3c2f03",
   "metadata": {
    "tags": []
   },
   "outputs": [
    {
     "data": {
      "text/plain": [
       "(Array(0.98738307, dtype=float32),\n",
       " {'sequential': {'0': (Array(0.7071038, dtype=float32),),\n",
       "   '1': (Array(0.75963044, dtype=float32),),\n",
       "   '2': (Array(0.95852536, dtype=float32),),\n",
       "   '3': (Array(1.3869414, dtype=float32),),\n",
       "   '4': (Array(0.98738307, dtype=float32),),\n",
       "   'layers_1': {'f': {'0': (Array(0.2828415, dtype=float32),),\n",
       "     '1': (Array(0.53493524, dtype=float32),),\n",
       "     '2': (Array(0.26746762, dtype=float32),)}},\n",
       "   'layers_2': {'f': {'0': (Array(0.15192609, dtype=float32),),\n",
       "     '1': (Array(1.2230655, dtype=float32),),\n",
       "     '2': (Array(0.61153275, dtype=float32),)}},\n",
       "   'layers_3': {'f': {'0': (Array(0.19170508, dtype=float32),),\n",
       "     '1': (Array(2.1369138, dtype=float32),),\n",
       "     '2': (Array(1.0684569, dtype=float32),)}},\n",
       "   'layers_4': {'dd': {'0': (Array(0.8421578, dtype=float32),),\n",
       "     '1': (Array(0.16843157, dtype=float32),),\n",
       "     '2': (Array(0.15278558, dtype=float32),)},\n",
       "    'ud': {'0': (Array(0.8396622, dtype=float32),),\n",
       "     '1': (Array(0.16793245, dtype=float32),),\n",
       "     '2': (Array(0.16690081, dtype=float32),)},\n",
       "    'uu': {'0': (Array(0.8426913, dtype=float32),),\n",
       "     '1': (Array(0.16853824, dtype=float32),),\n",
       "     '2': (Array(0.15532768, dtype=float32),)}}}})"
      ]
     },
     "execution_count": 3,
     "metadata": {},
     "output_type": "execute_result"
    }
   ],
   "source": [
    "import jax\n",
    "r = qmc.r[0].reshape((-1,)+qmc.r.shape[-2:])\n",
    "inspect = lambda z: jax.tree_util.tree_map(lambda x: x.std(), z)\n",
    "inspect(jax.vmap(lambda r: model.apply({\"params\":qmc.param}, r, mutable=\"sequential\"))(r))"
   ]
  },
  {
   "cell_type": "code",
   "execution_count": 4,
   "id": "652db9ce-42be-4647-917c-375b541a318f",
   "metadata": {
    "tags": []
   },
   "outputs": [
    {
     "data": {
      "text/plain": [
       "(Array(0.98738307, dtype=float32),\n",
       " {'debug': {'layers_1': {'f': {'layers_1': {'uu': (Array(0.25552377, dtype=float32),)}}},\n",
       "   'layers_2': {'f': {'layers_1': {'uu': (Array(0.6875493, dtype=float32),)}}},\n",
       "   'layers_3': {'f': {'layers_1': {'uu': (Array(1.296513, dtype=float32),)}}},\n",
       "   'layers_4': {'dd': {'layers_0': {'fy': (Array(0.8421578, dtype=float32),),\n",
       "      'x': (Array(2.9454844, dtype=float32),),\n",
       "      'y': (Array(2.9918258, dtype=float32),)},\n",
       "     'layers_2': {'fy': (Array(0.15278558, dtype=float32),),\n",
       "      'x': (Array(0.16843157, dtype=float32),),\n",
       "      'y': (Array(0.15906888, dtype=float32),)}},\n",
       "    'ud': {'layers_0': {'fy': (Array(0.8396622, dtype=float32),),\n",
       "      'x': (Array(2.9296641, dtype=float32),),\n",
       "      'y': (Array(2.935644, dtype=float32),)},\n",
       "     'layers_2': {'fy': (Array(0.16690081, dtype=float32),),\n",
       "      'x': (Array(0.16793245, dtype=float32),),\n",
       "      'y': (Array(0.17185092, dtype=float32),)}},\n",
       "    'uu': {'layers_0': {'fy': (Array(0.8426913, dtype=float32),),\n",
       "      'x': (Array(3.0926068, dtype=float32),),\n",
       "      'y': (Array(3.0547013, dtype=float32),)},\n",
       "     'layers_2': {'fy': (Array(0.15532768, dtype=float32),),\n",
       "      'x': (Array(0.16853824, dtype=float32),),\n",
       "      'y': (Array(0.15929104, dtype=float32),)}}}}})"
      ]
     },
     "execution_count": 4,
     "metadata": {},
     "output_type": "execute_result"
    }
   ],
   "source": [
    "import jax\n",
    "r = qmc.r[0].reshape((-1,)+qmc.r.shape[-2:])\n",
    "inspect = lambda z: jax.tree_util.tree_map(lambda x: x.std(), z)\n",
    "inspect(jax.vmap(lambda r: model.apply({\"params\":qmc.param}, r, mutable=\"debug\"))(r))"
   ]
  },
  {
   "cell_type": "code",
   "execution_count": 17,
   "id": "4fba551b-cd03-4282-88a0-0a1ad8d933ab",
   "metadata": {
    "tags": []
   },
   "outputs": [
    {
     "data": {
      "text/plain": [
       "0.02"
      ]
     },
     "execution_count": 17,
     "metadata": {},
     "output_type": "execute_result"
    }
   ],
   "source": [
    "qmc.step_size"
   ]
  },
  {
   "cell_type": "code",
   "execution_count": 13,
   "id": "5fa7cba4-6cc7-4f3c-8e55-296478fc779d",
   "metadata": {
    "tags": []
   },
   "outputs": [],
   "source": [
    "qmc.sampler = make_sampler(qmc.log_psi, False)\n",
    "qmc.sample(1000)"
   ]
  }
 ],
 "metadata": {
  "kernelspec": {
   "display_name": "Python 3 (ipykernel)",
   "language": "python",
   "name": "python3"
  },
  "language_info": {
   "codemirror_mode": {
    "name": "ipython",
    "version": 3
   },
   "file_extension": ".py",
   "mimetype": "text/x-python",
   "name": "python",
   "nbconvert_exporter": "python",
   "pygments_lexer": "ipython3",
   "version": "3.10.6"
  }
 },
 "nbformat": 4,
 "nbformat_minor": 5
}
